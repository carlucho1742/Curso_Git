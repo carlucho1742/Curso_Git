{
  "nbformat": 4,
  "nbformat_minor": 0,
  "metadata": {
    "colab": {
      "name": "Jogo da vida.ipynb",
      "provenance": [],
      "collapsed_sections": [],
      "authorship_tag": "ABX9TyM7ZIyhiPHQGzKZCYhiw6Sg",
      "include_colab_link": true
    },
    "kernelspec": {
      "name": "python3",
      "display_name": "Python 3"
    },
    "language_info": {
      "name": "python"
    }
  },
  "cells": [
    {
      "cell_type": "markdown",
      "metadata": {
        "id": "view-in-github",
        "colab_type": "text"
      },
      "source": [
        "<a href=\"https://colab.research.google.com/github/carlucho1742/Curso_Git/blob/master/Jogo_da_vida.ipynb\" target=\"_parent\"><img src=\"https://colab.research.google.com/assets/colab-badge.svg\" alt=\"Open In Colab\"/></a>"
      ]
    },
    {
      "cell_type": "markdown",
      "source": [
        "#JOGO DA VIDA\n",
        "Este jogo é uma simulação gráfica de de matriz de células (em referência a biologia). Cada célula pode estar viva (verde) ou morta (preto) de acordo com 4 regras básicas:\n",
        "\n",
        "\n",
        "*   Qualquer célula viva com menos de duas células vivas vizinhas morre de solidão;\n",
        "*   Qualquer célula viva com duas ou três células vivas vizinhas vive para a próxima geração;\n",
        "*   Qualquer célula com três células vivas vizinhas, se torna uma célula viva;\n",
        "*   Qualquer célula viva com mais de três células vivas vizinhas morre de superpopulação."
      ],
      "metadata": {
        "id": "d1shukZ59Y8k"
      }
    },
    {
      "cell_type": "code",
      "source": [
        "!pip install pygame"
      ],
      "metadata": {
        "colab": {
          "base_uri": "https://localhost:8080/"
        },
        "id": "PiADs4eCe49T",
        "outputId": "6fff13b2-8614-4822-b939-ae547789b214"
      },
      "execution_count": 2,
      "outputs": [
        {
          "output_type": "stream",
          "name": "stdout",
          "text": [
            "Collecting pygame\n",
            "  Downloading pygame-2.1.2-cp37-cp37m-manylinux_2_17_x86_64.manylinux2014_x86_64.whl (21.8 MB)\n",
            "\u001b[K     |████████████████████████████████| 21.8 MB 1.7 MB/s \n",
            "\u001b[?25hInstalling collected packages: pygame\n",
            "Successfully installed pygame-2.1.2\n"
          ]
        }
      ]
    },
    {
      "cell_type": "code",
      "source": [
        "import pygame\n",
        "import numpy as np\n",
        "import time\n",
        "\n",
        "def conta_vecinos(m,x,y,max_x,max_y):\n",
        "    vecinos = m[(x - 1) % max_x, (y - 1) % max_y] + \\\n",
        "              m[(x) % max_x, (y - 1) % max_y] + \\\n",
        "              m[(x + 1) % max_x, (y - 1) % max_y] + \\\n",
        "              m[(x + 1) % max_x, (y) % max_y] + \\\n",
        "              m[(x + 1) % max_x, (y + 1) % max_y] + \\\n",
        "              m[(x) % max_x, (y + 1) % max_y] + \\\n",
        "              m[(x - 1) % max_x, (y + 1) % max_y] + \\\n",
        "              m[(x - 1) % max_x, (y) % max_y]\n",
        "    return vecinos\n",
        "\n",
        "# desenho da tela\n",
        "pygame.init()\n",
        "largura, altura = 700, 700\n",
        "tela = pygame.display.set_mode((altura, largura))\n",
        "# cor de fundo\n",
        "cor = 25, 25, 25\n",
        "tela.fill(cor)\n",
        "\n",
        "# logitud da matriz\n",
        "num_cel_lar, num_cel_alt = 50, 50\n",
        "\n",
        "# inicio da matriz\n",
        "eco = np.zeros((num_cel_lar,num_cel_alt))\n",
        "#eco = np.random.randint(2, size=(num_cel_lar, num_cel_alt))\n",
        "\n",
        "# automata palo\n",
        "#eco[1, 1] = 1\n",
        "#eco[1, 2] = 1\n",
        "#eco[1, 3] = 1\n",
        "\n",
        "# automata mover\n",
        "#eco[11,11] = 1\n",
        "#eco[12,12] = 1\n",
        "#eco[12,13] = 1\n",
        "#eco[11,13] = 1\n",
        "#eco[10,13] = 1\n",
        "\n",
        "# cálculo do tamanho do quadrado\n",
        "dim_cel_lar = largura / num_cel_lar\n",
        "dim_cel_alt = altura / num_cel_alt\n",
        "\n",
        "pausa = False\n",
        "\n",
        "\n",
        "geracao = 1\n",
        "run = True\n",
        "while run:\n",
        "    # limpar tela\n",
        "    tela.fill(cor)\n",
        "\n",
        "    #uma cópia do ecossistema (nu_eco) é criada para realizar os cálculos com o antigo ecossistema (eco)\n",
        "    #e desenhar e salvar as alterações na próxima geração (nu_eco)\n",
        "    nu_eco = np.copy(eco)\n",
        "    time.sleep(0.1)\n",
        "\n",
        "    evento = pygame.event.get()\n",
        "\n",
        "    for event in evento:\n",
        "        if event.type == pygame.KEYDOWN:\n",
        "            pausa = not pausa\n",
        "        elif event.type == pygame.QUIT:\n",
        "            run = False\n",
        "        click = pygame.mouse.get_pressed()\n",
        "        if sum (click) > 0:\n",
        "            areaX, areaY = pygame.mouse.get_pos()\n",
        "            celX, celY = int(np.floor(areaX / dim_cel_lar)), int(np.floor(areaY / dim_cel_alt))\n",
        "            nu_eco[celX,celY] = 1\n",
        "\n",
        "\n",
        "    for y in range (0, num_cel_lar):\n",
        "        for x in range(0, num_cel_alt):\n",
        "            if not pausa:\n",
        "                vecinos = conta_vecinos(eco,x,y,num_cel_alt,num_cel_alt)\n",
        "\n",
        "                # Condições para a célula viver ou morrer\n",
        "                # se a célula está morta e tem 3 vizinhos vivos ela vive\n",
        "                if (eco[x, y] == 0) and (vecinos == 3):\n",
        "                    nu_eco[x, y] = 1\n",
        "                # Se a célula estiver viva e tiver apenas um vizinho vivo ou mais de 3 vizinhos vivos,\n",
        "                # a célula morre devido à solidão ou superpopulação\n",
        "                elif eco[x, y] == 1 and (vecinos < 2 or vecinos > 3):\n",
        "                    nu_eco[x, y] = 0\n",
        "                # criação do polígono\n",
        "            poligon = [(x * dim_cel_lar, y * dim_cel_alt),\n",
        "                    ((x+1) * dim_cel_lar, y * dim_cel_alt),\n",
        "                    ((x+1) * dim_cel_lar, (y+1) * dim_cel_alt),\n",
        "                    (x * dim_cel_lar,(y+1) * dim_cel_alt)]\n",
        "\n",
        "            # desenho da célula (viva ou morta)\n",
        "            if nu_eco[x,y] == 0:\n",
        "                pygame.draw.polygon(tela,(128,128,128),poligon,1)\n",
        "            else:\n",
        "                pygame.draw.polygon(tela, (255, 255, 255), poligon, 0)\n",
        "    # O ecossistema é atualizado para a próxima geração\n",
        "    eco = np.copy(nu_eco)\n",
        "    # Atualizaçao da tela\n",
        "    pygame.display.flip()\n",
        "    geracao = geracao +1"
      ],
      "metadata": {
        "colab": {
          "base_uri": "https://localhost:8080/",
          "height": 281
        },
        "id": "ZqGmXUygud5y",
        "outputId": "f614d1d2-1357-48ca-e8a5-e93538c401fe"
      },
      "execution_count": 3,
      "outputs": [
        {
          "output_type": "stream",
          "name": "stdout",
          "text": [
            "pygame 2.1.2 (SDL 2.0.16, Python 3.7.13)\n",
            "Hello from the pygame community. https://www.pygame.org/contribute.html\n"
          ]
        },
        {
          "output_type": "error",
          "ename": "error",
          "evalue": "ignored",
          "traceback": [
            "\u001b[0;31m---------------------------------------------------------------------------\u001b[0m",
            "\u001b[0;31merror\u001b[0m                                     Traceback (most recent call last)",
            "\u001b[0;32m<ipython-input-3-4dcb74fb4085>\u001b[0m in \u001b[0;36m<module>\u001b[0;34m()\u001b[0m\n\u001b[1;32m     10\u001b[0m \u001b[0mpygame\u001b[0m\u001b[0;34m.\u001b[0m\u001b[0minit\u001b[0m\u001b[0;34m(\u001b[0m\u001b[0;34m)\u001b[0m\u001b[0;34m\u001b[0m\u001b[0;34m\u001b[0m\u001b[0m\n\u001b[1;32m     11\u001b[0m \u001b[0mlargura\u001b[0m\u001b[0;34m,\u001b[0m \u001b[0maltura\u001b[0m \u001b[0;34m=\u001b[0m \u001b[0;36m700\u001b[0m\u001b[0;34m,\u001b[0m \u001b[0;36m700\u001b[0m\u001b[0;34m\u001b[0m\u001b[0;34m\u001b[0m\u001b[0m\n\u001b[0;32m---> 12\u001b[0;31m \u001b[0mtela\u001b[0m \u001b[0;34m=\u001b[0m \u001b[0mpygame\u001b[0m\u001b[0;34m.\u001b[0m\u001b[0mdisplay\u001b[0m\u001b[0;34m.\u001b[0m\u001b[0mset_mode\u001b[0m\u001b[0;34m(\u001b[0m\u001b[0;34m(\u001b[0m\u001b[0maltura\u001b[0m\u001b[0;34m,\u001b[0m \u001b[0mlargura\u001b[0m\u001b[0;34m)\u001b[0m\u001b[0;34m)\u001b[0m\u001b[0;34m\u001b[0m\u001b[0;34m\u001b[0m\u001b[0m\n\u001b[0m\u001b[1;32m     13\u001b[0m \u001b[0;31m# cor de fundo\u001b[0m\u001b[0;34m\u001b[0m\u001b[0;34m\u001b[0m\u001b[0;34m\u001b[0m\u001b[0m\n\u001b[1;32m     14\u001b[0m \u001b[0mcor\u001b[0m \u001b[0;34m=\u001b[0m \u001b[0;36m25\u001b[0m\u001b[0;34m,\u001b[0m \u001b[0;36m25\u001b[0m\u001b[0;34m,\u001b[0m \u001b[0;36m25\u001b[0m\u001b[0;34m\u001b[0m\u001b[0;34m\u001b[0m\u001b[0m\n",
            "\u001b[0;31merror\u001b[0m: No available video device"
          ]
        }
      ]
    }
  ]
}